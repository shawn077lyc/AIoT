{
  "nbformat": 4,
  "nbformat_minor": 0,
  "metadata": {
    "colab": {
      "provenance": []
    },
    "kernelspec": {
      "name": "python3",
      "display_name": "Python 3"
    },
    "language_info": {
      "name": "python"
    }
  },
  "cells": [
    {
      "cell_type": "markdown",
      "source": [
        "安裝必要的庫"
      ],
      "metadata": {
        "id": "B3VevKh5Xb5b"
      }
    },
    {
      "cell_type": "code",
      "execution_count": 14,
      "metadata": {
        "colab": {
          "base_uri": "https://localhost:8080/"
        },
        "id": "cKoTrWKPXSr0",
        "outputId": "e5c2a66b-cf66-40c8-c921-5c070337dde9"
      },
      "outputs": [
        {
          "output_type": "stream",
          "name": "stdout",
          "text": [
            "Collecting optuna\n",
            "  Downloading optuna-4.1.0-py3-none-any.whl.metadata (16 kB)\n",
            "Collecting alembic>=1.5.0 (from optuna)\n",
            "  Downloading alembic-1.14.0-py3-none-any.whl.metadata (7.4 kB)\n",
            "Collecting colorlog (from optuna)\n",
            "  Downloading colorlog-6.9.0-py3-none-any.whl.metadata (10 kB)\n",
            "Requirement already satisfied: numpy in /usr/local/lib/python3.10/dist-packages (from optuna) (1.26.4)\n",
            "Requirement already satisfied: packaging>=20.0 in /usr/local/lib/python3.10/dist-packages (from optuna) (24.2)\n",
            "Requirement already satisfied: sqlalchemy>=1.4.2 in /usr/local/lib/python3.10/dist-packages (from optuna) (2.0.36)\n",
            "Requirement already satisfied: tqdm in /usr/local/lib/python3.10/dist-packages (from optuna) (4.66.6)\n",
            "Requirement already satisfied: PyYAML in /usr/local/lib/python3.10/dist-packages (from optuna) (6.0.2)\n",
            "Collecting Mako (from alembic>=1.5.0->optuna)\n",
            "  Downloading Mako-1.3.8-py3-none-any.whl.metadata (2.9 kB)\n",
            "Requirement already satisfied: typing-extensions>=4 in /usr/local/lib/python3.10/dist-packages (from alembic>=1.5.0->optuna) (4.12.2)\n",
            "Requirement already satisfied: greenlet!=0.4.17 in /usr/local/lib/python3.10/dist-packages (from sqlalchemy>=1.4.2->optuna) (3.1.1)\n",
            "Requirement already satisfied: MarkupSafe>=0.9.2 in /usr/local/lib/python3.10/dist-packages (from Mako->alembic>=1.5.0->optuna) (3.0.2)\n",
            "Downloading optuna-4.1.0-py3-none-any.whl (364 kB)\n",
            "\u001b[2K   \u001b[90m━━━━━━━━━━━━━━━━━━━━━━━━━━━━━━━━━━━━━━━━\u001b[0m \u001b[32m364.4/364.4 kB\u001b[0m \u001b[31m12.1 MB/s\u001b[0m eta \u001b[36m0:00:00\u001b[0m\n",
            "\u001b[?25hDownloading alembic-1.14.0-py3-none-any.whl (233 kB)\n",
            "\u001b[2K   \u001b[90m━━━━━━━━━━━━━━━━━━━━━━━━━━━━━━━━━━━━━━━━\u001b[0m \u001b[32m233.5/233.5 kB\u001b[0m \u001b[31m16.0 MB/s\u001b[0m eta \u001b[36m0:00:00\u001b[0m\n",
            "\u001b[?25hDownloading colorlog-6.9.0-py3-none-any.whl (11 kB)\n",
            "Downloading Mako-1.3.8-py3-none-any.whl (78 kB)\n",
            "\u001b[2K   \u001b[90m━━━━━━━━━━━━━━━━━━━━━━━━━━━━━━━━━━━━━━━━\u001b[0m \u001b[32m78.6/78.6 kB\u001b[0m \u001b[31m6.5 MB/s\u001b[0m eta \u001b[36m0:00:00\u001b[0m\n",
            "\u001b[?25hInstalling collected packages: Mako, colorlog, alembic, optuna\n",
            "Successfully installed Mako-1.3.8 alembic-1.14.0 colorlog-6.9.0 optuna-4.1.0\n"
          ]
        }
      ],
      "source": [
        "!pip install optuna"
      ]
    },
    {
      "cell_type": "markdown",
      "source": [
        "載入資料集"
      ],
      "metadata": {
        "id": "8-8lAl6cXbeq"
      }
    },
    {
      "cell_type": "code",
      "source": [
        "import pandas as pd\n",
        "import numpy as np\n",
        "import optuna\n",
        "from sklearn.model_selection import train_test_split\n",
        "from sklearn.ensemble import RandomForestClassifier\n",
        "from sklearn.metrics import accuracy_score\n",
        "from sklearn.preprocessing import StandardScaler\n",
        "from sklearn.impute import SimpleImputer\n",
        "\n",
        "# 載入訓練與測試資料集\n",
        "train_df = pd.read_csv('train.csv')\n",
        "test_df = pd.read_csv('test.csv')\n",
        "\n",
        "# 顯示資料集的前幾行，了解資料結構\n",
        "print(train_df.head())\n",
        "print(test_df.head())\n",
        "\n",
        "# 特徵工程 - 清理資料\n",
        "# 填補缺失值\n",
        "imputer = SimpleImputer(strategy='mean')  # 數值型特徵的缺失值用均值填補\n",
        "train_df[['Age', 'Fare']] = imputer.fit_transform(train_df[['Age', 'Fare']])\n",
        "test_df[['Age', 'Fare']] = imputer.transform(test_df[['Age', 'Fare']])\n",
        "\n",
        "# 對 'Sex' 和 'Embarked' 進行編碼處理\n",
        "train_df['Sex'] = train_df['Sex'].map({'male': 0, 'female': 1})\n",
        "test_df['Sex'] = test_df['Sex'].map({'male': 0, 'female': 1})\n",
        "\n",
        "train_df['Embarked'] = train_df['Embarked'].map({'C': 0, 'Q': 1, 'S': 2})\n",
        "test_df['Embarked'] = test_df['Embarked'].map({'C': 0, 'Q': 1, 'S': 2})\n",
        "\n",
        "# 特徵選擇\n",
        "X_train = train_df[['Pclass', 'Sex', 'Age', 'SibSp', 'Parch', 'Fare', 'Embarked']]\n",
        "y_train = train_df['Survived']\n",
        "X_test = test_df[['Pclass', 'Sex', 'Age', 'SibSp', 'Parch', 'Fare', 'Embarked']]\n",
        "\n",
        "# 標準化特徵\n",
        "scaler = StandardScaler()\n",
        "X_train = scaler.fit_transform(X_train)\n",
        "X_test = scaler.transform(X_test)\n",
        "\n",
        "# 定義 Optuna 優化目標函數\n",
        "def objective(trial):\n",
        "    # 超參數範圍\n",
        "    n_estimators = trial.suggest_int('n_estimators', 10, 200)\n",
        "    max_depth = trial.suggest_int('max_depth', 1, 20)\n",
        "    min_samples_split = trial.suggest_int('min_samples_split', 2, 20)\n",
        "    min_samples_leaf = trial.suggest_int('min_samples_leaf', 1, 20)\n",
        "\n",
        "    # 初始化模型\n",
        "    model = RandomForestClassifier(n_estimators=n_estimators,\n",
        "                                   max_depth=max_depth,\n",
        "                                   min_samples_split=min_samples_split,\n",
        "                                   min_samples_leaf=min_samples_leaf,\n",
        "                                   random_state=42)\n",
        "\n",
        "    # 訓練模型\n",
        "    model.fit(X_train, y_train)\n",
        "\n",
        "    # 在訓練集上評估\n",
        "    y_train_pred = model.predict(X_train)\n",
        "    accuracy = accuracy_score(y_train, y_train_pred)\n",
        "\n",
        "    return accuracy\n",
        "\n",
        "# 使用 Optuna 進行超參數優化\n",
        "study = optuna.create_study(direction='maximize')\n",
        "study.optimize(objective, n_trials=50)  # 進行50次優化\n",
        "\n",
        "# 顯示最佳超參數\n",
        "print('Best hyperparameters:', study.best_params)\n",
        "\n",
        "# 使用最佳超參數訓練最終模型\n",
        "best_params = study.best_params\n",
        "best_model = RandomForestClassifier(**best_params, random_state=42)\n",
        "best_model.fit(X_train, y_train)\n",
        "\n",
        "# 在測試集上進行預測\n",
        "y_test_pred = best_model.predict(X_test)\n",
        "\n",
        "# 將預測結果儲存至 CSV 檔案\n",
        "submission = pd.DataFrame({'PassengerId': test_df['PassengerId'], 'Survived': y_test_pred})\n",
        "submission.to_csv('submission.csv', index=False)\n",
        "\n",
        "print(\"Predictions saved to submission.csv\")\n"
      ],
      "metadata": {
        "colab": {
          "base_uri": "https://localhost:8080/"
        },
        "id": "syb7dOaWXl3X",
        "outputId": "44e823db-31a6-4490-a3f5-46ec1943b107"
      },
      "execution_count": 16,
      "outputs": [
        {
          "output_type": "stream",
          "name": "stderr",
          "text": [
            "[I 2024-12-14 09:23:04,754] A new study created in memory with name: no-name-c28f38bb-559f-44d8-a771-187084e363d8\n"
          ]
        },
        {
          "output_type": "stream",
          "name": "stdout",
          "text": [
            "   PassengerId  Survived  Pclass  \\\n",
            "0            1         0       3   \n",
            "1            2         1       1   \n",
            "2            3         1       3   \n",
            "3            4         1       1   \n",
            "4            5         0       3   \n",
            "\n",
            "                                                Name     Sex   Age  SibSp  \\\n",
            "0                            Braund, Mr. Owen Harris    male  22.0      1   \n",
            "1  Cumings, Mrs. John Bradley (Florence Briggs Th...  female  38.0      1   \n",
            "2                             Heikkinen, Miss. Laina  female  26.0      0   \n",
            "3       Futrelle, Mrs. Jacques Heath (Lily May Peel)  female  35.0      1   \n",
            "4                           Allen, Mr. William Henry    male  35.0      0   \n",
            "\n",
            "   Parch            Ticket     Fare Cabin Embarked  \n",
            "0      0         A/5 21171   7.2500   NaN        S  \n",
            "1      0          PC 17599  71.2833   C85        C  \n",
            "2      0  STON/O2. 3101282   7.9250   NaN        S  \n",
            "3      0            113803  53.1000  C123        S  \n",
            "4      0            373450   8.0500   NaN        S  \n",
            "   PassengerId  Pclass                                          Name     Sex  \\\n",
            "0          892       3                              Kelly, Mr. James    male   \n",
            "1          893       3              Wilkes, Mrs. James (Ellen Needs)  female   \n",
            "2          894       2                     Myles, Mr. Thomas Francis    male   \n",
            "3          895       3                              Wirz, Mr. Albert    male   \n",
            "4          896       3  Hirvonen, Mrs. Alexander (Helga E Lindqvist)  female   \n",
            "\n",
            "    Age  SibSp  Parch   Ticket     Fare Cabin Embarked  \n",
            "0  34.5      0      0   330911   7.8292   NaN        Q  \n",
            "1  47.0      1      0   363272   7.0000   NaN        S  \n",
            "2  62.0      0      0   240276   9.6875   NaN        Q  \n",
            "3  27.0      0      0   315154   8.6625   NaN        S  \n",
            "4  22.0      1      1  3101298  12.2875   NaN        S  \n"
          ]
        },
        {
          "output_type": "stream",
          "name": "stderr",
          "text": [
            "[I 2024-12-14 09:23:05,212] Trial 0 finished with value: 0.8181818181818182 and parameters: {'n_estimators': 90, 'max_depth': 3, 'min_samples_split': 18, 'min_samples_leaf': 18}. Best is trial 0 with value: 0.8181818181818182.\n",
            "[I 2024-12-14 09:23:06,137] Trial 1 finished with value: 0.8305274971941639 and parameters: {'n_estimators': 187, 'max_depth': 16, 'min_samples_split': 12, 'min_samples_leaf': 18}. Best is trial 1 with value: 0.8305274971941639.\n",
            "[I 2024-12-14 09:23:06,672] Trial 2 finished with value: 0.8585858585858586 and parameters: {'n_estimators': 102, 'max_depth': 6, 'min_samples_split': 4, 'min_samples_leaf': 3}. Best is trial 2 with value: 0.8585858585858586.\n",
            "[I 2024-12-14 09:23:06,870] Trial 3 finished with value: 0.8316498316498316 and parameters: {'n_estimators': 26, 'max_depth': 5, 'min_samples_split': 16, 'min_samples_leaf': 16}. Best is trial 2 with value: 0.8585858585858586.\n",
            "[I 2024-12-14 09:23:06,973] Trial 4 finished with value: 0.8608305274971941 and parameters: {'n_estimators': 18, 'max_depth': 12, 'min_samples_split': 7, 'min_samples_leaf': 7}. Best is trial 4 with value: 0.8608305274971941.\n",
            "[I 2024-12-14 09:23:07,457] Trial 5 finished with value: 0.8338945005611672 and parameters: {'n_estimators': 131, 'max_depth': 17, 'min_samples_split': 7, 'min_samples_leaf': 18}. Best is trial 4 with value: 0.8608305274971941.\n",
            "[I 2024-12-14 09:23:08,421] Trial 6 finished with value: 0.8002244668911336 and parameters: {'n_estimators': 118, 'max_depth': 2, 'min_samples_split': 8, 'min_samples_leaf': 13}. Best is trial 4 with value: 0.8608305274971941.\n",
            "[I 2024-12-14 09:23:09,965] Trial 7 finished with value: 0.8608305274971941 and parameters: {'n_estimators': 114, 'max_depth': 9, 'min_samples_split': 5, 'min_samples_leaf': 7}. Best is trial 4 with value: 0.8608305274971941.\n",
            "[I 2024-12-14 09:23:10,250] Trial 8 finished with value: 0.8159371492704826 and parameters: {'n_estimators': 37, 'max_depth': 3, 'min_samples_split': 20, 'min_samples_leaf': 3}. Best is trial 4 with value: 0.8608305274971941.\n",
            "[I 2024-12-14 09:23:11,245] Trial 9 finished with value: 0.7968574635241302 and parameters: {'n_estimators': 191, 'max_depth': 2, 'min_samples_split': 11, 'min_samples_leaf': 20}. Best is trial 4 with value: 0.8608305274971941.\n",
            "[I 2024-12-14 09:23:11,481] Trial 10 finished with value: 0.8574635241301908 and parameters: {'n_estimators': 61, 'max_depth': 13, 'min_samples_split': 2, 'min_samples_leaf': 9}. Best is trial 4 with value: 0.8608305274971941.\n",
            "[I 2024-12-14 09:23:11,968] Trial 11 finished with value: 0.8585858585858586 and parameters: {'n_estimators': 152, 'max_depth': 10, 'min_samples_split': 6, 'min_samples_leaf': 8}. Best is trial 4 with value: 0.8608305274971941.\n",
            "[I 2024-12-14 09:23:12,140] Trial 12 finished with value: 0.8619528619528619 and parameters: {'n_estimators': 72, 'max_depth': 9, 'min_samples_split': 10, 'min_samples_leaf': 6}. Best is trial 12 with value: 0.8619528619528619.\n",
            "[I 2024-12-14 09:23:12,197] Trial 13 finished with value: 0.8630751964085297 and parameters: {'n_estimators': 13, 'max_depth': 13, 'min_samples_split': 11, 'min_samples_leaf': 5}. Best is trial 13 with value: 0.8630751964085297.\n",
            "[I 2024-12-14 09:23:12,370] Trial 14 finished with value: 0.867564534231201 and parameters: {'n_estimators': 65, 'max_depth': 20, 'min_samples_split': 11, 'min_samples_leaf': 5}. Best is trial 14 with value: 0.867564534231201.\n",
            "[I 2024-12-14 09:23:12,503] Trial 15 finished with value: 0.8911335578002245 and parameters: {'n_estimators': 50, 'max_depth': 19, 'min_samples_split': 15, 'min_samples_leaf': 1}. Best is trial 15 with value: 0.8911335578002245.\n",
            "[I 2024-12-14 09:23:12,652] Trial 16 finished with value: 0.8967452300785634 and parameters: {'n_estimators': 54, 'max_depth': 20, 'min_samples_split': 14, 'min_samples_leaf': 1}. Best is trial 16 with value: 0.8967452300785634.\n",
            "[I 2024-12-14 09:23:12,789] Trial 17 finished with value: 0.8911335578002245 and parameters: {'n_estimators': 51, 'max_depth': 19, 'min_samples_split': 15, 'min_samples_leaf': 1}. Best is trial 16 with value: 0.8967452300785634.\n",
            "[I 2024-12-14 09:23:12,999] Trial 18 finished with value: 0.8922558922558923 and parameters: {'n_estimators': 83, 'max_depth': 16, 'min_samples_split': 15, 'min_samples_leaf': 1}. Best is trial 16 with value: 0.8967452300785634.\n",
            "[I 2024-12-14 09:23:13,202] Trial 19 finished with value: 0.8507295173961841 and parameters: {'n_estimators': 87, 'max_depth': 16, 'min_samples_split': 13, 'min_samples_leaf': 11}. Best is trial 16 with value: 0.8967452300785634.\n",
            "[I 2024-12-14 09:23:13,529] Trial 20 finished with value: 0.8709315375982043 and parameters: {'n_estimators': 150, 'max_depth': 17, 'min_samples_split': 17, 'min_samples_leaf': 3}. Best is trial 16 with value: 0.8967452300785634.\n",
            "[I 2024-12-14 09:23:13,656] Trial 21 finished with value: 0.8945005611672279 and parameters: {'n_estimators': 42, 'max_depth': 19, 'min_samples_split': 14, 'min_samples_leaf': 1}. Best is trial 16 with value: 0.8967452300785634.\n",
            "[I 2024-12-14 09:23:13,771] Trial 22 finished with value: 0.8922558922558923 and parameters: {'n_estimators': 38, 'max_depth': 20, 'min_samples_split': 14, 'min_samples_leaf': 1}. Best is trial 16 with value: 0.8967452300785634.\n",
            "[I 2024-12-14 09:23:13,981] Trial 23 finished with value: 0.867564534231201 and parameters: {'n_estimators': 83, 'max_depth': 15, 'min_samples_split': 19, 'min_samples_leaf': 3}. Best is trial 16 with value: 0.8967452300785634.\n",
            "[I 2024-12-14 09:23:14,104] Trial 24 finished with value: 0.8720538720538721 and parameters: {'n_estimators': 39, 'max_depth': 18, 'min_samples_split': 14, 'min_samples_leaf': 4}. Best is trial 16 with value: 0.8967452300785634.\n",
            "[I 2024-12-14 09:23:14,288] Trial 25 finished with value: 0.9147025813692481 and parameters: {'n_estimators': 74, 'max_depth': 15, 'min_samples_split': 9, 'min_samples_leaf': 1}. Best is trial 25 with value: 0.9147025813692481.\n",
            "[I 2024-12-14 09:23:14,427] Trial 26 finished with value: 0.8540965207631874 and parameters: {'n_estimators': 53, 'max_depth': 14, 'min_samples_split': 9, 'min_samples_leaf': 11}. Best is trial 25 with value: 0.9147025813692481.\n",
            "[I 2024-12-14 09:23:14,597] Trial 27 finished with value: 0.8866442199775533 and parameters: {'n_estimators': 67, 'max_depth': 18, 'min_samples_split': 13, 'min_samples_leaf': 2}. Best is trial 25 with value: 0.9147025813692481.\n",
            "[I 2024-12-14 09:23:14,691] Trial 28 finished with value: 0.8742985409652076 and parameters: {'n_estimators': 29, 'max_depth': 20, 'min_samples_split': 9, 'min_samples_leaf': 5}. Best is trial 25 with value: 0.9147025813692481.\n",
            "[I 2024-12-14 09:23:14,874] Trial 29 finished with value: 0.8383838383838383 and parameters: {'n_estimators': 74, 'max_depth': 18, 'min_samples_split': 17, 'min_samples_leaf': 14}. Best is trial 25 with value: 0.9147025813692481.\n",
            "[I 2024-12-14 09:23:15,009] Trial 30 finished with value: 0.8866442199775533 and parameters: {'n_estimators': 48, 'max_depth': 15, 'min_samples_split': 13, 'min_samples_leaf': 2}. Best is trial 25 with value: 0.9147025813692481.\n",
            "[I 2024-12-14 09:23:15,247] Trial 31 finished with value: 0.8832772166105499 and parameters: {'n_estimators': 97, 'max_depth': 17, 'min_samples_split': 18, 'min_samples_leaf': 1}. Best is trial 25 with value: 0.9147025813692481.\n",
            "[I 2024-12-14 09:23:15,451] Trial 32 finished with value: 0.8686868686868687 and parameters: {'n_estimators': 84, 'max_depth': 16, 'min_samples_split': 16, 'min_samples_leaf': 4}. Best is trial 25 with value: 0.9147025813692481.\n",
            "[I 2024-12-14 09:23:15,646] Trial 33 finished with value: 0.8832772166105499 and parameters: {'n_estimators': 78, 'max_depth': 15, 'min_samples_split': 12, 'min_samples_leaf': 2}. Best is trial 25 with value: 0.9147025813692481.\n",
            "[I 2024-12-14 09:23:15,892] Trial 34 finished with value: 0.8686868686868687 and parameters: {'n_estimators': 100, 'max_depth': 19, 'min_samples_split': 15, 'min_samples_leaf': 4}. Best is trial 25 with value: 0.9147025813692481.\n",
            "[I 2024-12-14 09:23:16,051] Trial 35 finished with value: 0.8900112233445566 and parameters: {'n_estimators': 61, 'max_depth': 12, 'min_samples_split': 12, 'min_samples_leaf': 2}. Best is trial 25 with value: 0.9147025813692481.\n",
            "[I 2024-12-14 09:23:16,140] Trial 36 finished with value: 0.8698092031425365 and parameters: {'n_estimators': 22, 'max_depth': 7, 'min_samples_split': 14, 'min_samples_leaf': 1}. Best is trial 25 with value: 0.9147025813692481.\n",
            "[I 2024-12-14 09:23:16,362] Trial 37 finished with value: 0.8731762065095399 and parameters: {'n_estimators': 93, 'max_depth': 17, 'min_samples_split': 16, 'min_samples_leaf': 3}. Best is trial 25 with value: 0.9147025813692481.\n",
            "[I 2024-12-14 09:23:16,617] Trial 38 finished with value: 0.8653198653198653 and parameters: {'n_estimators': 112, 'max_depth': 14, 'min_samples_split': 10, 'min_samples_leaf': 6}. Best is trial 25 with value: 0.9147025813692481.\n",
            "[I 2024-12-14 09:23:16,713] Trial 39 finished with value: 0.8395061728395061 and parameters: {'n_estimators': 33, 'max_depth': 16, 'min_samples_split': 8, 'min_samples_leaf': 13}. Best is trial 25 with value: 0.9147025813692481.\n",
            "[I 2024-12-14 09:23:17,098] Trial 40 finished with value: 0.856341189674523 and parameters: {'n_estimators': 174, 'max_depth': 18, 'min_samples_split': 13, 'min_samples_leaf': 9}. Best is trial 25 with value: 0.9147025813692481.\n",
            "[I 2024-12-14 09:23:17,217] Trial 41 finished with value: 0.8933782267115601 and parameters: {'n_estimators': 40, 'max_depth': 20, 'min_samples_split': 14, 'min_samples_leaf': 1}. Best is trial 25 with value: 0.9147025813692481.\n",
            "[I 2024-12-14 09:23:17,303] Trial 42 finished with value: 0.8843995510662177 and parameters: {'n_estimators': 10, 'max_depth': 20, 'min_samples_split': 15, 'min_samples_leaf': 2}. Best is trial 25 with value: 0.9147025813692481.\n",
            "[I 2024-12-14 09:23:17,434] Trial 43 finished with value: 0.8787878787878788 and parameters: {'n_estimators': 47, 'max_depth': 19, 'min_samples_split': 17, 'min_samples_leaf': 3}. Best is trial 25 with value: 0.9147025813692481.\n",
            "[I 2024-12-14 09:23:17,594] Trial 44 finished with value: 0.898989898989899 and parameters: {'n_estimators': 61, 'max_depth': 19, 'min_samples_split': 14, 'min_samples_leaf': 1}. Best is trial 25 with value: 0.9147025813692481.\n",
            "[I 2024-12-14 09:23:17,745] Trial 45 finished with value: 0.8742985409652076 and parameters: {'n_estimators': 57, 'max_depth': 19, 'min_samples_split': 12, 'min_samples_leaf': 4}. Best is trial 25 with value: 0.9147025813692481.\n",
            "[I 2024-12-14 09:23:17,876] Trial 46 finished with value: 0.8922558922558923 and parameters: {'n_estimators': 43, 'max_depth': 20, 'min_samples_split': 10, 'min_samples_leaf': 2}. Best is trial 25 with value: 0.9147025813692481.\n",
            "[I 2024-12-14 09:23:18,056] Trial 47 finished with value: 0.835016835016835 and parameters: {'n_estimators': 67, 'max_depth': 18, 'min_samples_split': 3, 'min_samples_leaf': 17}. Best is trial 25 with value: 0.9147025813692481.\n",
            "[I 2024-12-14 09:23:18,148] Trial 48 finished with value: 0.8619528619528619 and parameters: {'n_estimators': 20, 'max_depth': 11, 'min_samples_split': 6, 'min_samples_leaf': 6}. Best is trial 25 with value: 0.9147025813692481.\n",
            "[I 2024-12-14 09:23:18,246] Trial 49 finished with value: 0.8215488215488216 and parameters: {'n_estimators': 27, 'max_depth': 17, 'min_samples_split': 14, 'min_samples_leaf': 20}. Best is trial 25 with value: 0.9147025813692481.\n"
          ]
        },
        {
          "output_type": "stream",
          "name": "stdout",
          "text": [
            "Best hyperparameters: {'n_estimators': 74, 'max_depth': 15, 'min_samples_split': 9, 'min_samples_leaf': 1}\n",
            "Predictions saved to submission.csv\n"
          ]
        }
      ]
    }
  ]
}